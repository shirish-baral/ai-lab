{
  "nbformat": 4,
  "nbformat_minor": 0,
  "metadata": {
    "colab": {
      "provenance": [],
      "authorship_tag": "ABX9TyORWKTsL/OMv+1SjT4djzN7",
      "include_colab_link": true
    },
    "kernelspec": {
      "name": "python3",
      "display_name": "Python 3"
    },
    "language_info": {
      "name": "python"
    }
  },
  "cells": [
    {
      "cell_type": "markdown",
      "metadata": {
        "id": "view-in-github",
        "colab_type": "text"
      },
      "source": [
        "<a href=\"https://colab.research.google.com/github/shirish-baral/ai-lab/blob/main/robot.ipynb\" target=\"_parent\"><img src=\"https://colab.research.google.com/assets/colab-badge.svg\" alt=\"Open In Colab\"/></a>"
      ]
    },
    {
      "cell_type": "code",
      "execution_count": 2,
      "metadata": {
        "colab": {
          "base_uri": "https://localhost:8080/",
          "height": 469
        },
        "id": "jt2SnXUdyV2W",
        "outputId": "f075fc79-e55e-4869-fd67-7256e67b185b"
      },
      "outputs": [
        {
          "output_type": "stream",
          "name": "stdout",
          "text": [
            "A* Time Taken: 0.0003104209899902344\n",
            "BFS Time Taken: 0.00013256072998046875\n",
            "UCS Time Taken: 0.00013303756713867188\n"
          ]
        },
        {
          "output_type": "display_data",
          "data": {
            "text/plain": [
              "<Figure size 640x480 with 1 Axes>"
            ],
            "image/png": "[encoded data removed]"
          },
          "metadata": {}
        }
      ],
      "source": [
        "import numpy as np\n",
        "import heapq\n",
        "import matplotlib.pyplot as plt\n",
        "from collections import deque\n",
        "import time\n",
        "\n",
        "# Define movement patterns\n",
        "D4 = [(0,1), (1,0), (0,-1), (-1,0)]  # 4-directional movement\n",
        "D8 = D4 + [(1,1), (-1,-1), (1,-1), (-1,1)]  # 8-directional movement\n",
        "\n",
        "def heuristic(a, b, method='manhattan'):\n",
        "    if method == 'manhattan':\n",
        "        return abs(a[0] - b[0]) + abs(a[1] - b[1])\n",
        "    elif method == 'euclidean':\n",
        "        return np.sqrt((a[0] - b[0])**2 + (a[1] - b[1])**2)\n",
        "\n",
        "def a_star(grid, start, goal, diagonal=False):\n",
        "    rows, cols = grid.shape\n",
        "    moves = D8 if diagonal else D4\n",
        "    heuristic_type = 'euclidean' if diagonal else 'manhattan'\n",
        "\n",
        "    open_list = []\n",
        "    heapq.heappush(open_list, (0, start))\n",
        "    came_from = {start: None}\n",
        "    g_score = {start: 0}\n",
        "    f_score = {start: heuristic(start, goal, heuristic_type)}\n",
        "\n",
        "    while open_list:\n",
        "        _, current = heapq.heappop(open_list)\n",
        "\n",
        "        if current == goal:\n",
        "            return reconstruct_path(came_from, current)\n",
        "\n",
        "        for move in moves:\n",
        "            neighbor = (current[0] + move[0], current[1] + move[1])\n",
        "            if 0 <= neighbor[0] < rows and 0 <= neighbor[1] < cols and grid[neighbor] == 0:\n",
        "                temp_g = g_score[current] + 1\n",
        "                if neighbor not in g_score or temp_g < g_score[neighbor]:\n",
        "                    g_score[neighbor] = temp_g\n",
        "                    f_score[neighbor] = temp_g + heuristic(neighbor, goal, heuristic_type)\n",
        "                    heapq.heappush(open_list, (f_score[neighbor], neighbor))\n",
        "                    came_from[neighbor] = current\n",
        "    return None\n",
        "\n",
        "def bfs(grid, start, goal):\n",
        "    rows, cols = grid.shape\n",
        "    queue = deque([start])\n",
        "    came_from = {start: None}\n",
        "\n",
        "    while queue:\n",
        "        current = queue.popleft()\n",
        "        if current == goal:\n",
        "            return reconstruct_path(came_from, current)\n",
        "\n",
        "        for move in D4:\n",
        "            neighbor = (current[0] + move[0], current[1] + move[1])\n",
        "            if 0 <= neighbor[0] < rows and 0 <= neighbor[1] < cols and grid[neighbor] == 0:\n",
        "                if neighbor not in came_from:\n",
        "                    queue.append(neighbor)\n",
        "                    came_from[neighbor] = current\n",
        "    return None\n",
        "\n",
        "def ucs(grid, start, goal):\n",
        "    rows, cols = grid.shape\n",
        "    priority_queue = [(0, start)]\n",
        "    came_from = {start: None}\n",
        "    cost_so_far = {start: 0}\n",
        "\n",
        "    while priority_queue:\n",
        "        cost, current = heapq.heappop(priority_queue)\n",
        "        if current == goal:\n",
        "            return reconstruct_path(came_from, current)\n",
        "\n",
        "        for move in D4:\n",
        "            neighbor = (current[0] + move[0], current[1] + move[1])\n",
        "            if 0 <= neighbor[0] < rows and 0 <= neighbor[1] < cols and grid[neighbor] == 0:\n",
        "                new_cost = cost + 1\n",
        "                if neighbor not in cost_so_far or new_cost < cost_so_far[neighbor]:\n",
        "                    cost_so_far[neighbor] = new_cost\n",
        "                    heapq.heappush(priority_queue, (new_cost, neighbor))\n",
        "                    came_from[neighbor] = current\n",
        "    return None\n",
        "\n",
        "def reconstruct_path(came_from, current):\n",
        "    path = []\n",
        "    while current:\n",
        "        path.append(current)\n",
        "        current = came_from[current]\n",
        "    path.reverse()\n",
        "    return path\n",
        "\n",
        "def visualize(grid, path, start, goal):\n",
        "    plt.imshow(grid, cmap='gray_r')\n",
        "    for (x, y) in path:\n",
        "        plt.scatter(y, x, c='red', s=10)\n",
        "    plt.scatter(start[1], start[0], c='blue', s=100, marker='o', label='Start')\n",
        "    plt.scatter(goal[1], goal[0], c='green', s=100, marker='X', label='Goal')\n",
        "    plt.legend()\n",
        "    plt.show()\n",
        "\n",
        "# Sample Grid (0 = Free, 1 = Obstacle)\n",
        "grid = np.array([\n",
        "    [0, 0, 0, 0, 1, 0, 0],\n",
        "    [0, 1, 1, 0, 1, 0, 0],\n",
        "    [0, 0, 0, 0, 0, 0, 0],\n",
        "    [0, 0, 1, 1, 1, 1, 0],\n",
        "    [0, 0, 0, 0, 0, 0, 0]\n",
        "])\n",
        "\n",
        "start, goal = (0, 0), (4, 6)\n",
        "\n",
        "# Run Algorithms\n",
        "start_time = time.time()\n",
        "path_a_star = a_star(grid, start, goal)\n",
        "print(\"A* Time Taken:\", time.time() - start_time)\n",
        "\n",
        "start_time = time.time()\n",
        "path_bfs = bfs(grid, start, goal)\n",
        "print(\"BFS Time Taken:\", time.time() - start_time)\n",
        "\n",
        "start_time = time.time()\n",
        "path_ucs = ucs(grid, start, goal)\n",
        "print(\"UCS Time Taken:\", time.time() - start_time)\n",
        "\n",
        "# Visualize Results\n",
        "visualize(grid, path_a_star, start, goal)\n"
      ]
    },
    {
      "cell_type": "code",
      "source": [],
      "metadata": {
        "id": "jW8HY2Ei2C8P"
      },
      "execution_count": null,
      "outputs": []
    }
  ]
}