{
  "nbformat": 4,
  "nbformat_minor": 0,
  "metadata": {
    "colab": {
      "provenance": [],
      "authorship_tag": "ABX9TyOelA7qdV2Y8C1JPT4A8LlE",
      "include_colab_link": true
    },
    "kernelspec": {
      "name": "python3",
      "display_name": "Python 3"
    },
    "language_info": {
      "name": "python"
    }
  },
  "cells": [
    {
      "cell_type": "markdown",
      "metadata": {
        "id": "view-in-github",
        "colab_type": "text"
      },
      "source": [
        "<a href=\"https://colab.research.google.com/github/shirish-baral/ai-lab/blob/main/sessional.ipynb\" target=\"_parent\"><img src=\"https://colab.research.google.com/assets/colab-badge.svg\" alt=\"Open In Colab\"/></a>"
      ]
    },
    {
      "cell_type": "markdown",
      "source": [
        "**Sessional Exam**\n",
        "Objective: Solve the 8-puzzle using A* search.\n",
        "\n",
        "Problem Statement: The 8-puzzle involves sliding tiles to achieve a goal state. Use A* to solve it.\n",
        "\n",
        "Tasks:\n",
        "\n",
        "Define heuristic functions:\n",
        "\n",
        "H1: Number of misplaced tiles.\n",
        "\n",
        "H2: Sum of Manhattan distances of all tiles from their goal positions.\n",
        "\n",
        "Implement A* with both heuristics."
      ],
      "metadata": {
        "id": "okPD7EoYD8uc"
      }
    },
    {
      "cell_type": "code",
      "source": [
        "def h1_misplaced_tiles(state, goal):\n",
        "    \"\"\"Heuristic 1: Count of misplaced tiles (excluding the blank).\"\"\"\n",
        "    count = 0\n",
        "    for i in range(9):\n",
        "        if state[i] != 0 and state[i] != goal[i]:\n",
        "            count += 1\n",
        "    return count\n",
        "\n",
        "def h2_manhattan_distance(state, goal):\n",
        "    \"\"\"Heuristic 2: Sum of Manhattan distances of tiles from goal.\"\"\"\n",
        "    distance = 0\n",
        "    for i in range(9):\n",
        "        if state[i] != 0:\n",
        "            x1, y1 = divmod(i, 3)\n",
        "            goal_index = goal.index(state[i])\n",
        "            x2, y2 = divmod(goal_index, 3)\n",
        "            distance += abs(x1 - x2) + abs(y1 - y2)\n",
        "    return distance\n",
        "\n",
        "import heapq\n",
        "\n",
        "def get_neighbors(state):\n",
        "    \"\"\"Returns all valid neighbor states from the current state.\"\"\"\n",
        "    neighbors = []\n",
        "    zero_index = state.index(0)\n",
        "    row, col = divmod(zero_index, 3)\n",
        "\n",
        "    moves = {\n",
        "        'UP': -3, 'DOWN': 3,\n",
        "        'LEFT': -1, 'RIGHT': 1\n",
        "    }\n",
        "\n",
        "    for move, delta in moves.items():\n",
        "        new_index = zero_index + delta\n",
        "\n",
        "        if move == 'UP' and row == 0: continue\n",
        "        if move == 'DOWN' and row == 2: continue\n",
        "        if move == 'LEFT' and col == 0: continue\n",
        "        if move == 'RIGHT' and col == 2: continue\n",
        "\n",
        "        new_state = list(state)\n",
        "        new_state[zero_index], new_state[new_index] = new_state[new_index], new_state[zero_index]\n",
        "        neighbors.append(tuple(new_state))\n",
        "\n",
        "    return neighbors\n",
        "\n",
        "\n",
        "def a_star(start, goal, heuristic):\n",
        "    \"\"\"A* algorithm for 8-puzzle.\"\"\"\n",
        "    open_list = []\n",
        "    heapq.heappush(open_list, (heuristic(start, goal), 0, start, []))\n",
        "    closed_set = set()\n",
        "\n",
        "    while open_list:\n",
        "        f, g, current, path = heapq.heappop(open_list)\n",
        "\n",
        "        if current in closed_set:\n",
        "            continue\n",
        "        closed_set.add(current)\n",
        "\n",
        "        if current == goal:\n",
        "            return path + [current]\n",
        "\n",
        "        for neighbor in get_neighbors(current):\n",
        "            if neighbor not in closed_set:\n",
        "                heapq.heappush(open_list, (g + 1 + heuristic(neighbor, goal), g + 1, neighbor, path + [current]))\n",
        "\n",
        "    return None\n",
        "\n",
        "\n",
        "start_state = (1, 2, 3,\n",
        "               4, 0, 6,\n",
        "               7, 5, 8)\n",
        "\n",
        "goal_state = (1, 2, 3,\n",
        "              4, 5, 6,\n",
        "              7, 8, 0)\n",
        "\n",
        "# Run A* with H1\n",
        "solution_h1 = a_star(start_state, goal_state, h1_misplaced_tiles)\n",
        "print(\"Solution using H1 (misplaced tiles):\")\n",
        "for step in solution_h1:\n",
        "    print(step)\n",
        "    print(\"\\n\")\n",
        "\n",
        "# Run A* with H2\n",
        "solution_h2 = a_star(start_state, goal_state, h2_manhattan_distance)\n",
        "print(\"\\nSolution using H2 (Manhattan distance):\")\n",
        "for step in solution_h2:\n",
        "    print(step)\n",
        "    print(\"\\n\")\n"
      ],
      "metadata": {
        "colab": {
          "base_uri": "https://localhost:8080/"
        },
        "id": "0vEi-fE0Dlfq",
        "outputId": "cad0bfee-64f8-48bf-acd1-4c0e058110ec"
      },
      "execution_count": 26,
      "outputs": [
        {
          "output_type": "stream",
          "name": "stdout",
          "text": [
            "Solution using H1 (misplaced tiles):\n",
            "(1, 2, 3, 4, 0, 6, 7, 5, 8)\n",
            "\n",
            "\n",
            "(1, 2, 3, 4, 5, 6, 7, 0, 8)\n",
            "\n",
            "\n",
            "(1, 2, 3, 4, 5, 6, 7, 8, 0)\n",
            "\n",
            "\n",
            "\n",
            "Solution using H2 (Manhattan distance):\n",
            "(1, 2, 3, 4, 0, 6, 7, 5, 8)\n",
            "\n",
            "\n",
            "(1, 2, 3, 4, 5, 6, 7, 0, 8)\n",
            "\n",
            "\n",
            "(1, 2, 3, 4, 5, 6, 7, 8, 0)\n",
            "\n",
            "\n"
          ]
        }
      ]
    },
    {
      "cell_type": "code",
      "source": [],
      "metadata": {
        "id": "LVT8O8gIF0fo"
      },
      "execution_count": null,
      "outputs": []
    }
  ]
}