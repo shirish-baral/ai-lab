{
  "nbformat": 4,
  "nbformat_minor": 0,
  "metadata": {
    "colab": {
      "provenance": [],
      "authorship_tag": "ABX9TyPeeSv5ueTQJ+lhgHoXlpzP",
      "include_colab_link": true
    },
    "kernelspec": {
      "name": "python3",
      "display_name": "Python 3"
    },
    "language_info": {
      "name": "python"
    }
  },
  "cells": [
    {
      "cell_type": "markdown",
      "metadata": {
        "id": "view-in-github",
        "colab_type": "text"
      },
      "source": [
        "<a href=\"https://colab.research.google.com/github/shirish-baral/ai-lab/blob/main/ASearch(ManhattanDistance).ipynb\" target=\"_parent\"><img src=\"https://colab.research.google.com/assets/colab-badge.svg\" alt=\"Open In Colab\"/></a>"
      ]
    },
    {
      "cell_type": "markdown",
      "source": [
        "**Assignment 5: A Search for a Puzzle Solver**\n",
        "\n",
        "Objective: Solve the 8-puzzle using A* search.\n",
        "\n",
        "Problem Statement: The 8-puzzle involves sliding tiles to achieve a goal state. Use A* to solve it.\n",
        "\n",
        "Tasks:\n",
        "Define heuristic functions:\n",
        "-\n",
        "H1: Sum of Manhattan distances of all tiles from their goal positions.\n",
        "- Implement A* with this heuristic.\n"
      ],
      "metadata": {
        "id": "Tr8pOvHkisVR"
      }
    },
    {
      "cell_type": "code",
      "source": [
        "import heapq\n",
        "import numpy as np\n",
        "\n",
        "def manhattan_distance(state, goal_state):\n",
        "    distance = 0\n",
        "    for i in range(3):\n",
        "        for j in range(3):\n",
        "            value = state[i][j]\n",
        "            if value != 0:\n",
        "                goal_x, goal_y = divmod(value - 1, 3)\n",
        "                distance += abs(goal_x - i) + abs(goal_y - j)\n",
        "    return distance\n",
        "\n",
        "def get_neighbors(state):\n",
        "    neighbors = []\n",
        "    x, y = np.where(state == 0)\n",
        "    x, y = x.item(), y.item()  # Fix for NumPy DeprecationWarning\n",
        "\n",
        "    moves = {'Up': (x-1, y), 'Down': (x+1, y), 'Left': (x, y-1), 'Right': (x, y+1)}\n",
        "\n",
        "    for move, (new_x, new_y) in moves.items():\n",
        "        if 0 <= new_x < 3 and 0 <= new_y < 3:\n",
        "            new_state = state.copy()\n",
        "            new_state[x, y], new_state[new_x, new_y] = new_state[new_x, new_y], new_state[x, y]\n",
        "            neighbors.append((new_state, move))\n",
        "\n",
        "    return neighbors\n",
        "\n",
        "def a_star(start_state, goal_state):\n",
        "    open_list = []\n",
        "    heapq.heappush(open_list, (manhattan_distance(start_state, goal_state), 0, start_state.tolist(), []))  # Convert to list\n",
        "    closed_set = set()\n",
        "    nodes_explored = 0\n",
        "\n",
        "    while open_list:\n",
        "        _, depth, current_state, path = heapq.heappop(open_list)\n",
        "        current_state = np.array(current_state)  # Convert back to NumPy array\n",
        "        nodes_explored += 1\n",
        "\n",
        "        if np.array_equal(current_state, goal_state):\n",
        "            return path, nodes_explored\n",
        "\n",
        "        closed_set.add(tuple(current_state.flatten()))\n",
        "\n",
        "        for neighbor, move in get_neighbors(current_state):\n",
        "            if tuple(neighbor.flatten()) not in closed_set:\n",
        "                heapq.heappush(open_list, (depth + 1 + manhattan_distance(neighbor, goal_state), depth + 1, neighbor.tolist(), path + [move]))  # Convert to list\n",
        "\n",
        "    return None, nodes_explored\n",
        "\n",
        "def print_solution(path):\n",
        "    for move in path:\n",
        "        print(f\"Move: {move}\")\n",
        "\n",
        "# Example usage\n",
        "start_state = np.array([[1, 2, 3], [4, 0, 5], [6, 7, 8]])\n",
        "goal_state = np.array([[1, 2, 3], [4, 5, 6], [7, 8, 0]])\n",
        "\n",
        "solution, nodes_explored = a_star(start_state, goal_state)\n",
        "if solution:\n",
        "    print(f\"Solution found in {len(solution)} moves.\")\n",
        "    print(f\"Nodes explored: {nodes_explored}\")\n",
        "    print_solution(solution)\n",
        "else:\n",
        "    print(\"No solution found.\")\n"
      ],
      "metadata": {
        "colab": {
          "base_uri": "https://localhost:8080/"
        },
        "id": "1h8pvmY1ir28",
        "outputId": "812c9d4a-fca7-4585-9111-5e2c0f969563"
      },
      "execution_count": 2,
      "outputs": [
        {
          "output_type": "stream",
          "name": "stdout",
          "text": [
            "Solution found in 14 moves.\n",
            "Nodes explored: 131\n",
            "Move: Right\n",
            "Move: Down\n",
            "Move: Left\n",
            "Move: Left\n",
            "Move: Up\n",
            "Move: Right\n",
            "Move: Down\n",
            "Move: Right\n",
            "Move: Up\n",
            "Move: Left\n",
            "Move: Left\n",
            "Move: Down\n",
            "Move: Right\n",
            "Move: Right\n"
          ]
        }
      ]
    },
    {
      "cell_type": "code",
      "source": [],
      "metadata": {
        "id": "65A19iDHwCbo"
      },
      "execution_count": null,
      "outputs": []
    }
  ]
}